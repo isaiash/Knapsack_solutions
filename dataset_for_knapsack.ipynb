{
 "cells": [
  {
   "cell_type": "code",
   "execution_count": 1,
   "metadata": {},
   "outputs": [],
   "source": [
    "import random\n",
    "import numpy as np\n",
    "from sklearn.metrics.pairwise import euclidean_distances\n",
    "from pyclustering.cluster.kmedoids import kmedoids\n",
    "from math import log10\n",
    "import matplotlib.pyplot as plt\n",
    "from scipy.stats.stats import pearsonr\n",
    "import os\n",
    "import sys\n",
    "import time"
   ]
  },
  {
   "cell_type": "code",
   "execution_count": 4,
   "metadata": {},
   "outputs": [],
   "source": [
    "N_LEVELS = 10\n",
    "\n",
    "TESTS_PER_LEVEL = 200000\n",
    "\n",
    "MAX_N_ELEMENTS = 1000000\n",
    "MIN_N_ELEMENTS = 1\n",
    "\n",
    "MAX_BAG_SIZE = 1000000\n",
    "MIN_BAG_SIZE = 1\n",
    "# NOTA: El valor de los pesos tendra como maximo el valor de la mochila\n",
    "MAX_VALUE = 1000000\n",
    "MIN_VALUE = 1\n",
    "\n",
    "PATH_TO_DATASET = \"Uniform/DataSet/\""
   ]
  },
  {
   "cell_type": "code",
   "execution_count": 3,
   "metadata": {},
   "outputs": [
    {
     "name": "stdout",
     "output_type": "stream",
     "text": [
      "[200000.         100000.          66666.66666667  50000.\n",
      "  40000.          33333.33333333  28571.42857143  25000.\n",
      "  22222.22222222  20000.        ]\n"
     ]
    },
    {
     "data": {
      "image/png": "[encoded data removed]",
      "text/plain": [
       "<matplotlib.figure.Figure at 0x7f35b440ce80>"
      ]
     },
     "metadata": {},
     "output_type": "display_data"
    }
   ],
   "source": [
    "x = np.arange(1, N_LEVELS+1, 1)\n",
    "y = TESTS_PER_LEVEL/x\n",
    "print(y)\n",
    "plt.plot(x, y)\n",
    "plt.ylim(ymin=0)\n",
    "\n",
    "plt.xlabel('Level')\n",
    "plt.ylabel('Num tests')\n",
    "plt.title('Tests number per level')\n",
    "plt.show()"
   ]
  },
  {
   "cell_type": "code",
   "execution_count": 7,
   "metadata": {},
   "outputs": [
    {
     "name": "stdout",
     "output_type": "stream",
     "text": [
      "______LEVEL 1 ______\n",
      "Sampling...\n",
      "100\n",
      "______LEVEL 2 ______\n",
      "Sampling...\n",
      "1600\n",
      "______LEVEL 3 ______\n",
      "Sampling...\n",
      "8100\n",
      "______LEVEL 4 ______\n",
      "Sampling...\n",
      "25600\n",
      "______LEVEL 5 ______\n",
      "Sampling...\n",
      "62500\n",
      "______LEVEL 6 ______\n",
      "Sampling...\n",
      "129600\n",
      "______LEVEL 7 ______\n",
      "Sampling...\n",
      "240099\n",
      "______LEVEL 8 ______\n",
      "Sampling...\n",
      "409600\n",
      "______LEVEL 9 ______\n",
      "Sampling...\n",
      "656100\n",
      "______LEVEL 10 ______\n",
      "Sampling...\n",
      "1000000\n"
     ]
    }
   ],
   "source": [
    "for level in range(10):\n",
    "    print(\"______LEVEL\",level+1,\"______\")\n",
    "    print(\"Sampling...\")\n",
    "    max_lev = (int)(MAX_N_ELEMENTS*((level + 1)/N_LEVELS)**4)\n",
    "    print(max_lev)"
   ]
  },
  {
   "cell_type": "code",
   "execution_count": 4,
   "metadata": {},
   "outputs": [],
   "source": [
    "def index_list_by_level():\n",
    "    uniform_level = []\n",
    "    for level in range(N_LEVELS):\n",
    "        uniform_level.append([])\n",
    "        \n",
    "    for instance in os.listdir(PATH_TO_DATASET):\n",
    "        index, num = open(PATH_TO_DATASET + (str)(instance),'r').read().split()[:2]\n",
    "        indice = (int)((int)(num)*(N_LEVELS-1)/MAX_N_ELEMENTS)\n",
    "        print(index, num, indice)\n",
    "        uniform_level[indice].append(index)\n",
    "    return uniform_level\n",
    "        \n",
    "def get_instance(index):\n",
    "    return list(map(int, open(PATH_TO_DATASET + index,'r').read().split()))\n",
    "\n",
    "def get_features(weights, values):\n",
    "    mean_w = np.mean(weights)\n",
    "    median_w = np.median(weights) \n",
    "    desv_w = np.std(weights)\n",
    "    min_w = min(weights)\n",
    "    max_w = max(weights)\n",
    "    mean_v = np.mean(values)\n",
    "    median_v = np.median(values) \n",
    "    desv_v = np.std(values)\n",
    "    min_v = min(values)\n",
    "    max_v = max(values) \n",
    "    p_coef, p_value = pearsonr(weights, values)\n",
    "\n",
    "    if (mean_w == 0 or median_w == 0 or desv_w == 0 or mean_v == 0 or median_v == 0 or desv_v ==0):\n",
    "        return -1\n",
    "    \n",
    "    return [num_elem, # n\n",
    "            cap, # cap\n",
    "            cap/mean_w,\n",
    "            cap/median_w,\n",
    "            cap/desv_w,\n",
    "            mean_w/mean_v,\n",
    "            median_w/median_v,\n",
    "            desv_w/desv_v,\n",
    "            max_w - min_w,\n",
    "            max_v - min_v,\n",
    "            mean_w, \n",
    "            median_w, \n",
    "            desv_w, \n",
    "            min_w, \n",
    "            max_w, \n",
    "            mean_v, \n",
    "            median_v, \n",
    "            desv_v, \n",
    "            min_v, \n",
    "            max_v,\n",
    "            p_coef]"
   ]
  },
  {
   "cell_type": "code",
   "execution_count": 6,
   "metadata": {
    "scrolled": true
   },
   "outputs": [
    {
     "name": "stdout",
     "output_type": "stream",
     "text": [
      "______LEVEL 9 ______\n",
      "Sampling...\n",
      "0 / 22222\n",
      "1000 / 22222\n",
      "2000 / 22222\n",
      "3000 / 22222\n",
      "4000 / 22222\n",
      "5000 / 22222\n",
      "6000 / 22222\n",
      "7000 / 22222\n",
      "8000 / 22222\n",
      "9000 / 22222\n",
      "10000 / 22222\n"
     ]
    },
    {
     "ename": "OSError",
     "evalue": "[Errno 5] Input/output error",
     "output_type": "error",
     "traceback": [
      "\u001b[0;31m--------------------------------------------------------------------\u001b[0m",
      "\u001b[0;31mOSError\u001b[0m                            Traceback (most recent call last)",
      "\u001b[0;32m<ipython-input-6-50e170b5a346>\u001b[0m in \u001b[0;36m<module>\u001b[0;34m()\u001b[0m\n\u001b[1;32m     22\u001b[0m         \u001b[0mlvl_features\u001b[0m \u001b[0;34m=\u001b[0m \u001b[0mopen\u001b[0m\u001b[0;34m(\u001b[0m\u001b[0;34m'/media/isaias/isa/full_dataset/datasetlvl'\u001b[0m\u001b[0;34m+\u001b[0m\u001b[0mstr\u001b[0m\u001b[0;34m(\u001b[0m\u001b[0mlevel\u001b[0m\u001b[0;34m+\u001b[0m\u001b[0;36m1\u001b[0m\u001b[0;34m)\u001b[0m\u001b[0;34m+\u001b[0m\u001b[0;34m'/features/'\u001b[0m\u001b[0;34m+\u001b[0m\u001b[0mstr\u001b[0m\u001b[0;34m(\u001b[0m\u001b[0mtest\u001b[0m\u001b[0;34m)\u001b[0m\u001b[0;34m,\u001b[0m\u001b[0;34m'w'\u001b[0m\u001b[0;34m)\u001b[0m\u001b[0;34m\u001b[0m\u001b[0m\n\u001b[1;32m     23\u001b[0m         \u001b[0mlvl_dataset\u001b[0m \u001b[0;34m=\u001b[0m \u001b[0mopen\u001b[0m\u001b[0;34m(\u001b[0m\u001b[0;34m'/media/isaias/isa/full_dataset/datasetlvl'\u001b[0m\u001b[0;34m+\u001b[0m\u001b[0mstr\u001b[0m\u001b[0;34m(\u001b[0m\u001b[0mlevel\u001b[0m\u001b[0;34m+\u001b[0m\u001b[0;36m1\u001b[0m\u001b[0;34m)\u001b[0m\u001b[0;34m+\u001b[0m\u001b[0;34m'/dataset/'\u001b[0m\u001b[0;34m+\u001b[0m\u001b[0mstr\u001b[0m\u001b[0;34m(\u001b[0m\u001b[0mtest\u001b[0m\u001b[0;34m)\u001b[0m\u001b[0;34m,\u001b[0m \u001b[0;34m'w'\u001b[0m\u001b[0;34m)\u001b[0m\u001b[0;34m\u001b[0m\u001b[0m\n\u001b[0;32m---> 24\u001b[0;31m         \u001b[0mprint\u001b[0m\u001b[0;34m(\u001b[0m\u001b[0mtest\u001b[0m\u001b[0;34m,\u001b[0m \u001b[0mnum_elem\u001b[0m\u001b[0;34m,\u001b[0m \u001b[0mcap\u001b[0m\u001b[0;34m,\u001b[0m \u001b[0;34m*\u001b[0m\u001b[0mweights\u001b[0m\u001b[0;34m,\u001b[0m \u001b[0;34m*\u001b[0m\u001b[0mvalues\u001b[0m\u001b[0;34m,\u001b[0m \u001b[0msep\u001b[0m\u001b[0;34m=\u001b[0m\u001b[0;34m' '\u001b[0m\u001b[0;34m,\u001b[0m \u001b[0mfile\u001b[0m\u001b[0;34m=\u001b[0m\u001b[0mlvl_dataset\u001b[0m\u001b[0;34m)\u001b[0m\u001b[0;34m\u001b[0m\u001b[0m\n\u001b[0m\u001b[1;32m     25\u001b[0m         \u001b[0mprint\u001b[0m\u001b[0;34m(\u001b[0m\u001b[0;34m*\u001b[0m\u001b[0mfeatures\u001b[0m\u001b[0;34m,\u001b[0m \u001b[0msep\u001b[0m\u001b[0;34m=\u001b[0m\u001b[0;34m' '\u001b[0m\u001b[0;34m,\u001b[0m \u001b[0mfile\u001b[0m\u001b[0;34m=\u001b[0m\u001b[0mlvl_features\u001b[0m\u001b[0;34m)\u001b[0m\u001b[0;34m\u001b[0m\u001b[0m\n\u001b[1;32m     26\u001b[0m         \u001b[0;32mif\u001b[0m\u001b[0;34m(\u001b[0m\u001b[0mtest\u001b[0m\u001b[0;34m%\u001b[0m\u001b[0;36m1000\u001b[0m\u001b[0;34m==\u001b[0m\u001b[0;36m0\u001b[0m\u001b[0;34m)\u001b[0m\u001b[0;34m:\u001b[0m\u001b[0;34m\u001b[0m\u001b[0m\n",
      "\u001b[0;31mOSError\u001b[0m: [Errno 5] Input/output error"
     ]
    }
   ],
   "source": [
    "# uniform_data = index_list_by_level()\n",
    "count = 0\n",
    "for level in [8,9]:\n",
    "    print(\"______LEVEL\",level+1,\"______\")\n",
    "    print(\"Sampling...\")\n",
    "    n_tests = (int)(TESTS_PER_LEVEL/(level+1))\n",
    "    min_lev = (int)(MAX_N_ELEMENTS*(level/N_LEVELS)**4)\n",
    "    max_lev = (int)(MAX_N_ELEMENTS*((level + 1)/N_LEVELS)**4)\n",
    "    max_cap = (int)(MAX_BAG_SIZE*((level + 1)/N_LEVELS)**4)+1\n",
    "    max_val = (int)(MAX_BAG_SIZE*((level + 1)/N_LEVELS)**4)\n",
    "    for test in range(n_tests):\n",
    "        \n",
    "        cap = random.randint(MIN_BAG_SIZE, max_cap)+1\n",
    "        num_elem = random.randint(1+min_lev, max_lev)\n",
    "        weights = np.random.randint(MIN_BAG_SIZE, cap, num_elem)\n",
    "        values = np.random.randint(MIN_VALUE, max_val, num_elem)\n",
    "        \n",
    "        features = get_features(weights, values)\n",
    "        if features == -1: \n",
    "            test -= 1\n",
    "            continue\n",
    "        lvl_features = open('/media/isaias/isa/full_dataset/datasetlvl'+str(level+1)+'/features/'+str(test),'w')\n",
    "        lvl_dataset = open('/media/isaias/isa/full_dataset/datasetlvl'+str(level+1)+'/dataset/'+str(test), 'w')\n",
    "        print(test, num_elem, cap, *weights, *values, sep=' ', file=lvl_dataset)\n",
    "        print(*features, sep=' ', file=lvl_features)  \n",
    "        if(test%1000==0):\n",
    "            print(str(test),'/',str(n_tests))"
   ]
  },
  {
   "cell_type": "code",
   "execution_count": null,
   "metadata": {},
   "outputs": [],
   "source": []
  }
 ],
 "metadata": {
  "kernelspec": {
   "display_name": "Python 3",
   "language": "python",
   "name": "python3"
  },
  "language_info": {
   "codemirror_mode": {
    "name": "ipython",
    "version": 3
   },
   "file_extension": ".py",
   "mimetype": "text/x-python",
   "name": "python",
   "nbconvert_exporter": "python",
   "pygments_lexer": "ipython3",
   "version": "3.6.4"
  }
 },
 "nbformat": 4,
 "nbformat_minor": 2
}
